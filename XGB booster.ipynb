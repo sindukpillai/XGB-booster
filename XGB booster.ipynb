{
 "cells": [
  {
   "cell_type": "code",
   "execution_count": 22,
   "id": "ddecdb88",
   "metadata": {},
   "outputs": [],
   "source": [
    "import pandas as pd\n",
    "import numpy as np\n",
    "import matplotlib.pyplot as plt\n",
    "import seaborn as sns\n",
    "%matplotlib inline\n",
    "import matplotlib.colors as mcolors\n",
    "import warnings\n",
    "warnings.filterwarnings(\"ignore\")\n",
    "from sklearn.preprocessing import MinMaxScaler\n",
    "from sklearn.linear_model import Lasso\n",
    "from sklearn.model_selection import RandomizedSearchCV\n",
    "import xgboost"
   ]
  },
  {
   "cell_type": "code",
   "execution_count": 23,
   "id": "a5709ab8",
   "metadata": {},
   "outputs": [],
   "source": [
    "#feature selection\n",
    "\n",
    "pd.pandas.set_option('display.max_columns',None)\n",
    "dataset=pd.read_csv('C:\\\\Users\\\\HP\\\\Desktop\\\\train.csv')\n",
    "dataset.head()\n",
    "Y=dataset[['Not elected']]\n",
    "X=dataset.drop(['id','Not elected'],axis=1)"
   ]
  },
  {
   "cell_type": "code",
   "execution_count": 24,
   "id": "c9befb2d",
   "metadata": {},
   "outputs": [],
   "source": [
    "from sklearn.model_selection import train_test_split\n",
    "\n",
    "X_train,X_test,Y_train,Y_test = train_test_split(X,Y,test_size=0.2,random_state=45)"
   ]
  },
  {
   "cell_type": "code",
   "execution_count": 25,
   "id": "92e2e89e",
   "metadata": {},
   "outputs": [],
   "source": [
    "n_estimators=[100,500,900,1100,1500]\n",
    "max_depth=[2,3,5,10,15]\n",
    "booster=('gbtree','gblinear')\n",
    "learning_rate=[.05,.1,.15,.20]\n",
    "min_child_weight=[1,2,3,4]\n",
    "hyper_parameter_grid={'n_estimators':n_estimators,\n",
    "                     'max_depth':max_depth,\n",
    "                     'learning_rate':learning_rate,\n",
    "                     'min_child_weight':min_child_weight,\n",
    "                      'booster':booster,\n",
    "                      \n",
    "                     }\n"
   ]
  },
  {
   "cell_type": "code",
   "execution_count": 26,
   "id": "f53126b7",
   "metadata": {},
   "outputs": [],
   "source": [
    "regressor=xgboost.XGBRegressor(base_score=.25,booster='gbtree',colsample_bylevel=1,max_depth=2,min_child_weight=1,missing=None,n_estimators=900,n_jobs=1,nthread=None,objective='reg:linear',random_state=0,regressreg_alpha=0,reg_lambda=1,scale_pos_weight=1,seed=None,silent=True,subsample=1)\n"
   ]
  },
  {
   "cell_type": "code",
   "execution_count": 27,
   "id": "40ad1bed",
   "metadata": {},
   "outputs": [
    {
     "name": "stdout",
     "output_type": "stream",
     "text": [
      "Fitting 5 folds for each of 50 candidates, totalling 250 fits\n",
      "[21:48:54] WARNING: C:/Users/administrator/workspace/xgboost-win64_release_1.6.0/src/objective/regression_obj.cu:203: reg:linear is now deprecated in favor of reg:squarederror.\n",
      "[21:48:54] WARNING: C:/Users/administrator/workspace/xgboost-win64_release_1.6.0/src/learner.cc:627: \n",
      "Parameters: { \"colsample_bylevel\", \"max_depth\", \"min_child_weight\", \"regressreg_alpha\", \"silent\", \"subsample\" } might not be used.\n",
      "\n",
      "  This could be a false alarm, with some parameters getting used by language bindings but\n",
      "  then being mistakenly passed down to XGBoost core, or some parameter actually being used\n",
      "  but getting flagged wrongly here. Please open an issue if you find any such cases.\n",
      "\n",
      "\n"
     ]
    },
    {
     "data": {
      "text/plain": [
       "XGBRegressor(base_score=0.25, booster='gblinear', callbacks=None,\n",
       "             colsample_bylevel=1, colsample_bynode=None, colsample_bytree=None,\n",
       "             early_stopping_rounds=None, enable_categorical=False,\n",
       "             eval_metric=None, gamma=None, gpu_id=-1, grow_policy=None,\n",
       "             importance_type=None, interaction_constraints=None,\n",
       "             learning_rate=0.1, max_bin=None, max_cat_to_onehot=None,\n",
       "             max_delta_step=None, max_depth=10, max_leaves=None,\n",
       "             min_child_weight=3, missing=None, monotone_constraints=None,\n",
       "             n_estimators=100, n_jobs=1, nthread=1, num_parallel_tree=None,\n",
       "             objective='reg:linear', predictor=None, random_state=0, ...)"
      ]
     },
     "execution_count": 27,
     "metadata": {},
     "output_type": "execute_result"
    }
   ],
   "source": [
    "random_cv=RandomizedSearchCV(estimator=regressor,param_distributions=hyper_parameter_grid,cv=5,n_iter=50,scoring='neg_mean_absolute_error',n_jobs=4,verbose=5,return_train_score=True,random_state=42)\n",
    "random_cv.fit(X_train,Y_train)\n",
    "random_cv.best_estimator_\n"
   ]
  },
  {
   "cell_type": "code",
   "execution_count": 41,
   "id": "18b4b371",
   "metadata": {},
   "outputs": [
    {
     "name": "stdout",
     "output_type": "stream",
     "text": [
      "[22:03:56] WARNING: C:/Users/administrator/workspace/xgboost-win64_release_1.6.0/src/objective/regression_obj.cu:203: reg:linear is now deprecated in favor of reg:squarederror.\n",
      "[22:03:56] WARNING: C:/Users/administrator/workspace/xgboost-win64_release_1.6.0/src/learner.cc:627: \n",
      "Parameters: { \"colsample_bylevel\", \"max_depth\", \"min_child_weight\" } might not be used.\n",
      "\n",
      "  This could be a false alarm, with some parameters getting used by language bindings but\n",
      "  then being mistakenly passed down to XGBoost core, or some parameter actually being used\n",
      "  but getting flagged wrongly here. Please open an issue if you find any such cases.\n",
      "\n",
      "\n",
      "MSE: 0.01\n",
      "RMSE: 0.12\n"
     ]
    }
   ],
   "source": [
    "from sklearn.metrics import mean_squared_error\n",
    "\n",
    "regressor=xgboost.XGBRegressor(base_score=0.25, booster='gblinear', callbacks=None,\n",
    "             colsample_bylevel=1, colsample_bynode=None, colsample_bytree=None,\n",
    "             early_stopping_rounds=None, enable_categorical=False,\n",
    "             eval_metric=None, gamma=None, gpu_id=-1, grow_policy=None,\n",
    "             importance_type=None, interaction_constraints=None,\n",
    "             learning_rate=0.1, max_bin=None, max_cat_to_onehot=None,\n",
    "             max_delta_step=None, max_depth=10, max_leaves=None,\n",
    "             min_child_weight=3, missing=None, monotone_constraints=None,\n",
    "             n_estimators=100, n_jobs=1, nthread=1, num_parallel_tree=None,\n",
    "             objective='reg:linear', predictor=None, random_state=0)\n",
    "regressor.fit(X_train,Y_train)\n",
    "Y_pred = regressor.predict(X_test)\n",
    "mse = mean_squared_error(Y_test, Y_pred)\n",
    "print(\"MSE: %.2f\" % mse)\n",
    "\n",
    "print(\"RMSE: %.2f\" % (mse**(1/2.0)))\n",
    "\n"
   ]
  },
  {
   "cell_type": "code",
   "execution_count": null,
   "id": "47c1d3de",
   "metadata": {},
   "outputs": [],
   "source": []
  }
 ],
 "metadata": {
  "kernelspec": {
   "display_name": "Python 3 (ipykernel)",
   "language": "python",
   "name": "python3"
  },
  "language_info": {
   "codemirror_mode": {
    "name": "ipython",
    "version": 3
   },
   "file_extension": ".py",
   "mimetype": "text/x-python",
   "name": "python",
   "nbconvert_exporter": "python",
   "pygments_lexer": "ipython3",
   "version": "3.9.12"
  }
 },
 "nbformat": 4,
 "nbformat_minor": 5
}
